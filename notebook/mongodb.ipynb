{
 "cells": [
  {
   "cell_type": "code",
   "execution_count": null,
   "id": "4a818f51",
   "metadata": {},
   "outputs": [],
   "source": [
    "import os\n",
    "import pandas as pd\n",
    "import pymongo"
   ]
  },
  {
   "cell_type": "code",
   "execution_count": null,
   "id": "f762e607",
   "metadata": {},
   "outputs": [],
   "source": [
    "load_dotenv()"
   ]
  },
  {
   "cell_type": "code",
   "execution_count": null,
   "id": "7731f12e",
   "metadata": {},
   "outputs": [],
   "source": [
    "# Read MongoDB URI and DB name directly from .env\n",
    "mongo_uri = os.getenv(\"MONGO_CLUSTER_URI\")  # This includes username & password\n",
    "mongo_db = os.getenv(\"MONGO_DB\")\n",
    "collection_name = \"vehicleData\""
   ]
  },
  {
   "cell_type": "code",
   "execution_count": null,
   "id": "1f203329",
   "metadata": {},
   "outputs": [],
   "source": [
    "# Read CSV and convert to list of dictionaries\n",
    "df = pd.read_csv(\"data.csv\")\n",
    "data = df.to_dict(orient=\"records\")"
   ]
  },
  {
   "cell_type": "code",
   "execution_count": null,
   "id": "7c363390",
   "metadata": {},
   "outputs": [],
   "source": [
    "# Connect to MongoDB\n",
    "client = MongoClient(mongo_uri)\n",
    "database = client[mongo_db]\n",
    "collection = database[collection_name]"
   ]
  },
  {
   "cell_type": "code",
   "execution_count": null,
   "id": "0ff3f009",
   "metadata": {},
   "outputs": [],
   "source": [
    "res = collection.insert_many(data)"
   ]
  }
 ],
 "metadata": {
  "kernelspec": {
   "display_name": "Python (devops-venv)",
   "language": "python",
   "name": "devops-venv"
  },
  "language_info": {
   "codemirror_mode": {
    "name": "ipython",
    "version": 3
   },
   "file_extension": ".py",
   "mimetype": "text/x-python",
   "name": "python",
   "nbconvert_exporter": "python",
   "pygments_lexer": "ipython3",
   "version": "3.11.1"
  }
 },
 "nbformat": 4,
 "nbformat_minor": 5
}
